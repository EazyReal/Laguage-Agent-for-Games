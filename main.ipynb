{
 "cells": [
  {
   "cell_type": "code",
   "execution_count": 1,
   "metadata": {},
   "outputs": [
    {
     "data": {
      "text/plain": [
       "True"
      ]
     },
     "execution_count": 1,
     "metadata": {},
     "output_type": "execute_result"
    }
   ],
   "source": [
    "from pettingzoo.classic import rps_v2\n",
    "from pettingzoo import AECEnv\n",
    "from utils import write_to_file, lm, extract_enclosed_text\n",
    "from pathlib import Path\n",
    "from prompts.prompt import *\n",
    "from prompts.rps import *\n",
    "\n",
    "# you should add your API key to .env file, OPENAI_API_KEY=sk\n",
    "from dotenv import load_dotenv\n",
    "load_dotenv()"
   ]
  },
  {
   "cell_type": "code",
   "execution_count": 2,
   "metadata": {},
   "outputs": [],
   "source": [
    "# Indicate the LLM version that you want to use\n",
    "GPT_MODEL = 'gpt-3.5-turbo'\n",
    "# max number of trials for each task\n",
    "NUM_TRY = 6\n",
    "# By default, the max number of tokens is 1400. In some tasks, the context limit of the language models is exceeded. Try to change the number of tokens in these cases.\n",
    "MAX_TOKENS = 1400\n",
    "# Output path\n",
    "LOG_PATH = Path('./log/signature/')\n",
    "F_LM = Path('lm_log.txt')\n",
    "F_GAME = Path('game_log.txt')\n",
    "F_LOG = Path('ipy_log.txt')"
   ]
  },
  {
   "cell_type": "code",
   "execution_count": 3,
   "metadata": {},
   "outputs": [],
   "source": [
    "dummy_agent_code = \\\n",
    "\"\"\"\n",
    "class Agent:\n",
    "    def __init__(self, env, name):\n",
    "        self.env = env\n",
    "        self.name = name\n",
    "        self.history = {\n",
    "            \"observations\": [],\n",
    "            \"actions\": []\n",
    "        }\n",
    "\n",
    "    def reset(self):\n",
    "        \\\"\"\"\n",
    "        Reset the agent's state.\n",
    "        \\\"\"\"\n",
    "        self.history = {\n",
    "            \"observations\": [],\n",
    "            \"actions\": []\n",
    "        }\n",
    "    \n",
    "    def observe(self, observation, reward, termination, truncation, info):\n",
    "        \\\"\"\"\n",
    "        Update the agent's state by storing the observation in the history.\n",
    "        \\\"\"\"\n",
    "        self.history[\"observations\"].append(observation)\n",
    "    \n",
    "    def act(self):\n",
    "        \\\"\"\"\n",
    "        Choose the action to take based on the current observation.\n",
    "        In this game, we will choose the action randomly.\n",
    "        \\\"\"\"\n",
    "        action = self.env.action_space(self.name).sample()\n",
    "        self.history[\"actions\"].append(action)\n",
    "        return action\n",
    "    \"\"\""
   ]
  },
  {
   "cell_type": "code",
   "execution_count": 4,
   "metadata": {},
   "outputs": [],
   "source": [
    "def simulate(agents: any, env: AECEnv) -> dict[any, float]:\n",
    "    env.reset()\n",
    "    rewards = {agent: 0 for agent in env.possible_agents}\n",
    "    \n",
    "    for agent in agents.values():\n",
    "        agent.reset()\n",
    "\n",
    "    for agent_name in env.agent_iter():\n",
    "        observation, reward, termination, truncation, info = env.last()\n",
    "        rewards[agent_name] += reward\n",
    "        obs_message = agents[agent_name].observe(\n",
    "            observation, reward, termination, truncation, info\n",
    "        )\n",
    "        if termination or truncation:\n",
    "            action = None\n",
    "        else:\n",
    "            action = agents[agent_name].act()\n",
    "        print(f\"Agen {agent_name} Action {action}\")\n",
    "        env.step(action)\n",
    "    env.close()\n",
    "    return rewards"
   ]
  },
  {
   "cell_type": "code",
   "execution_count": 5,
   "metadata": {},
   "outputs": [
    {
     "name": "stdout",
     "output_type": "stream",
     "text": [
      "Agen player_0 Action 1\n",
      "Agen player_1 Action 1\n",
      "Agen player_0 Action 2\n",
      "Agen player_1 Action 0\n",
      "Agen player_0 Action 1\n",
      "Agen player_1 Action 1\n",
      "Agen player_0 Action 1\n",
      "Agen player_1 Action 0\n",
      "Agen player_0 Action 0\n",
      "Agen player_1 Action 2\n",
      "Agen player_0 Action None\n",
      "Agen player_1 Action None\n",
      "{'player_0': 1, 'player_1': -1}\n"
     ]
    }
   ],
   "source": [
    "for _ in range(1):\n",
    "    prompt_get_agent_class = get_solution_prompt\\\n",
    "        .replace(\"<simulation code>\", simulation_code)\\\n",
    "        .replace(\"<starter>\", rps_starter)\\\n",
    "        .replace(\"<env info>\", rps_info)\n",
    "    write_to_file(LOG_PATH, F_LOG, prompt_get_agent_class)\n",
    "    response = lm(prompt_get_agent_class, GPT_MODEL, MAX_TOKENS, LOG_PATH, F_LM)\n",
    "    write_to_file(LOG_PATH, F_LOG, response)\n",
    "    define_agent_code = extract_enclosed_text(response, \"```python\", \"```\")\n",
    "    # define_agent_code = dummy_agent_code\n",
    "    env = rps_v2.env(max_cycles=5, render_mode=\"human\")\n",
    "    Agent = None\n",
    "    exec(define_agent_code)\n",
    "    agents = {\n",
    "        name: Agent(env, name)\n",
    "        for name in env.possible_agents\n",
    "    }\n",
    "    rewards = simulate(agents, env)\n",
    "    print(rewards)\n",
    "    # get_refinement_prompt = f\"given the execution result: {info}\"\n",
    "    # refinement_response = \n",
    "    # (get_refinement_prompt)"
   ]
  }
 ],
 "metadata": {
  "kernelspec": {
   "display_name": "la",
   "language": "python",
   "name": "python3"
  },
  "language_info": {
   "codemirror_mode": {
    "name": "ipython",
    "version": 3
   },
   "file_extension": ".py",
   "mimetype": "text/x-python",
   "name": "python",
   "nbconvert_exporter": "python",
   "pygments_lexer": "ipython3",
   "version": "3.11.6"
  }
 },
 "nbformat": 4,
 "nbformat_minor": 2
}
