{
 "cells": [
  {
   "cell_type": "code",
   "execution_count": 1,
   "metadata": {},
   "outputs": [
    {
     "data": {
      "text/plain": [
       "True"
      ]
     },
     "execution_count": 1,
     "metadata": {},
     "output_type": "execute_result"
    }
   ],
   "source": [
    "from pettingzoo.classic import rps_v2\n",
    "from pettingzoo import AECEnv\n",
    "import os\n",
    "import openai\n",
    "import time\n",
    "from utils import write_to_file, lm, extract_enclosed_text\n",
    "from pathlib import Path\n",
    "from prompts.prompt import *\n",
    "from prompts.rps import *\n",
    "\n",
    "from dotenv import load_dotenv\n",
    "load_dotenv()"
   ]
  },
  {
   "cell_type": "code",
   "execution_count": 2,
   "metadata": {},
   "outputs": [],
   "source": [
    "# Indicate the LLM version that you want to use\n",
    "# 'gpt-3.5' / 'gpt-3'\n",
    "GPT_MODEL = 'gpt-3.5-turbo'\n",
    "# max number of trials for each task\n",
    "NUM_TRY = 6\n",
    "# By default, the max number of tokens is 1400. In some tasks, the context limit of the language models is exceeded. Try to change the number of tokens in these cases.\n",
    "MAX_TOKENS = 1400\n",
    "# Output path\n",
    "LOG_PATH = Path('./log/2/')\n",
    "F_LM = Path('lm_log.txt')\n",
    "F_GAME = Path('game_log.txt')"
   ]
  },
  {
   "cell_type": "code",
   "execution_count": 3,
   "metadata": {},
   "outputs": [],
   "source": [
    "dummy_agent_code = \\\n",
    "\"\"\"\n",
    "class Agent:\n",
    "    def __init__(self, env, name):\n",
    "        self.env = env\n",
    "        self.name = name\n",
    "        self.history = {\n",
    "            \"observations\": [],\n",
    "            \"actions\": []\n",
    "        }\n",
    "\n",
    "    def reset(self):\n",
    "        \\\"\"\"\n",
    "        Reset the agent's state.\n",
    "        \\\"\"\"\n",
    "        self.history = {\n",
    "            \"observations\": [],\n",
    "            \"actions\": []\n",
    "        }\n",
    "    \n",
    "    def observe(self, observation, reward, termination, truncation, info):\n",
    "        \\\"\"\"\n",
    "        Update the agent's state by storing the observation in the history.\n",
    "        \\\"\"\"\n",
    "        self.history[\"observations\"].append(observation)\n",
    "    \n",
    "    def act(self):\n",
    "        \\\"\"\"\n",
    "        Choose the action to take based on the current observation.\n",
    "        In this game, we will choose the action randomly.\n",
    "        \\\"\"\"\n",
    "        action = self.env.action_space(self.name).sample()\n",
    "        self.history[\"actions\"].append(action)\n",
    "        return action\n",
    "    \"\"\""
   ]
  },
  {
   "cell_type": "code",
   "execution_count": 4,
   "metadata": {},
   "outputs": [
    {
     "ename": "SyntaxError",
     "evalue": "unterminated string literal (detected at line 38) (<string>, line 38)",
     "output_type": "error",
     "traceback": [
      "Traceback \u001b[0;36m(most recent call last)\u001b[0m:\n",
      "\u001b[0m  File \u001b[1;32m~/miniconda3/envs/la/lib/python3.11/site-packages/IPython/core/interactiveshell.py:3548\u001b[0m in \u001b[1;35mrun_code\u001b[0m\n    exec(code_obj, self.user_global_ns, self.user_ns)\u001b[0m\n",
      "\u001b[0;36m  Cell \u001b[0;32mIn[4], line 36\u001b[0;36m\n\u001b[0;31m    exec(define_agent_code)\u001b[0;36m\n",
      "\u001b[0;36m  File \u001b[0;32m<string>:38\u001b[0;36m\u001b[0m\n\u001b[0;31m    1. If the opponent's last action was Rock, choose Paper.\u001b[0m\n\u001b[0m                      ^\u001b[0m\n\u001b[0;31mSyntaxError\u001b[0m\u001b[0;31m:\u001b[0m unterminated string literal (detected at line 38)\n"
     ]
    }
   ],
   "source": [
    "import os\n",
    "\n",
    "def simulate(agents: any, env: AECEnv) -> dict[any, float]:\n",
    "    env.reset()\n",
    "    rewards = {agent: 0 for agent in env.possible_agents}\n",
    "    \n",
    "    for agent in agents.values():\n",
    "        agent.reset()\n",
    "\n",
    "    for agent_name in env.agent_iter():\n",
    "        observation, reward, termination, truncation, info = env.last()\n",
    "        rewards[agent_name] += reward\n",
    "        obs_message = agents[agent_name].observe(\n",
    "            observation, reward, termination, truncation, info\n",
    "        )\n",
    "        if termination or truncation:\n",
    "            action = None\n",
    "        else:\n",
    "            action = agents[agent_name].act()\n",
    "        print(f\"Agen {agent_name} Action {action}\")\n",
    "        env.step(action)\n",
    "    env.close()\n",
    "    return rewards\n",
    "\n",
    "Agent = None\n",
    "\n",
    "for _ in range(1):\n",
    "    get_define_agent_prompt = get_solution_prompt\\\n",
    "        .replace(\"<simulation code>\", simulation_code)\\\n",
    "        .replace(\"<starter>\", rps_starter)\\\n",
    "        .replace(\"<env info>\", rps_info)\n",
    "    agent_response = lm(get_define_agent_prompt, GPT_MODEL, MAX_TOKENS, LOG_PATH, F_LM)\n",
    "    define_agent_code = extract_enclosed_text(agent_response, \"<solution>\", \"</solution>\")\n",
    "    # define_agent_code = dummy_agent_code\n",
    "    env = rps_v2.env(max_cycles=5, render_mode=\"human\")\n",
    "    exec(define_agent_code)\n",
    "    agents = {\n",
    "        name: Agent(env, name)\n",
    "        for name in env.possible_agents\n",
    "    }\n",
    "    rewards = simulate(agents, env)\n",
    "    print(rewards)\n",
    "    # get_refinement_prompt = f\"given the execution result: {info}\"\n",
    "    # refinement_response = \n",
    "    # (get_refinement_prompt)"
   ]
  },
  {
   "cell_type": "code",
   "execution_count": null,
   "metadata": {},
   "outputs": [],
   "source": []
  },
  {
   "cell_type": "code",
   "execution_count": null,
   "metadata": {},
   "outputs": [],
   "source": []
  }
 ],
 "metadata": {
  "kernelspec": {
   "display_name": "la",
   "language": "python",
   "name": "python3"
  },
  "language_info": {
   "codemirror_mode": {
    "name": "ipython",
    "version": 3
   },
   "file_extension": ".py",
   "mimetype": "text/x-python",
   "name": "python",
   "nbconvert_exporter": "python",
   "pygments_lexer": "ipython3",
   "version": "3.11.6"
  }
 },
 "nbformat": 4,
 "nbformat_minor": 2
}
